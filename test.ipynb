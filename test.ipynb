{
 "cells": [
  {
   "metadata": {
    "ExecuteTime": {
     "end_time": "2025-06-16T16:33:44.881199Z",
     "start_time": "2025-06-16T16:33:44.875976Z"
    }
   },
   "cell_type": "code",
   "source": [
    "import sqlite3\n",
    "conn = sqlite3.connect('Chinook.db')\n",
    "c = conn.cursor()"
   ],
   "id": "ec8ee10755e584cf",
   "outputs": [],
   "execution_count": 15
  },
  {
   "metadata": {
    "ExecuteTime": {
     "end_time": "2025-06-16T16:35:34.808010Z",
     "start_time": "2025-06-16T16:35:34.803890Z"
    }
   },
   "cell_type": "code",
   "source": [
    "c.execute(f\"select count(*) from Customer\")\n",
    "c.fetchall()\n",
    "#3503"
   ],
   "id": "86a4194a6610918a",
   "outputs": [
    {
     "data": {
      "text/plain": [
       "[(59,)]"
      ]
     },
     "execution_count": 21,
     "metadata": {},
     "output_type": "execute_result"
    }
   ],
   "execution_count": 21
  },
  {
   "metadata": {
    "ExecuteTime": {
     "end_time": "2025-06-15T19:17:28.342301Z",
     "start_time": "2025-06-15T19:17:28.180242Z"
    }
   },
   "cell_type": "code",
   "source": [
    "import spacy\n",
    "\n",
    "# Load the English language model\n",
    "nlp = spacy.load(\"en_core_web_sm\")\n",
    "\n",
    "# Sample text\n",
    "text = \"total sales for the beatles?\"\n",
    "\n",
    "# Process the text with SpaCy\n",
    "doc = nlp(text)\n",
    "\n",
    "# Display the PoS tagged result\n",
    "for token in doc:\n",
    "    print(f\"{token.text}: {token.pos_}\")\n"
   ],
   "id": "4346f2e5cbb1b295",
   "outputs": [
    {
     "name": "stdout",
     "output_type": "stream",
     "text": [
      "total: ADJ\n",
      "sales: NOUN\n",
      "for: ADP\n",
      "the: DET\n",
      "beatles: NOUN\n",
      "?: PUNCT\n"
     ]
    }
   ],
   "execution_count": 13
  },
  {
   "metadata": {
    "ExecuteTime": {
     "end_time": "2025-06-16T16:26:05.216913Z",
     "start_time": "2025-06-16T16:26:04.887400Z"
    }
   },
   "cell_type": "code",
   "source": [
    "import pandas as pd\n",
    "# Load the CSV file into a DataFrame\n",
    "df = pd.read_csv('/Users/harshitkrishnakumar/Downloads/dev_20240627/dev_databases/codebase_community/database_description/posts.csv', index_col=0)\n",
    "len(df)"
   ],
   "id": "e9777f110841e053",
   "outputs": [
    {
     "data": {
      "text/plain": [
       "21"
      ]
     },
     "execution_count": 14,
     "metadata": {},
     "output_type": "execute_result"
    }
   ],
   "execution_count": 14
  },
  {
   "metadata": {},
   "cell_type": "code",
   "outputs": [],
   "execution_count": null,
   "source": "",
   "id": "5842e119687b693b"
  }
 ],
 "metadata": {
  "kernelspec": {
   "display_name": "Python 3",
   "language": "python",
   "name": "python3"
  },
  "language_info": {
   "codemirror_mode": {
    "name": "ipython",
    "version": 2
   },
   "file_extension": ".py",
   "mimetype": "text/x-python",
   "name": "python",
   "nbconvert_exporter": "python",
   "pygments_lexer": "ipython2",
   "version": "2.7.6"
  }
 },
 "nbformat": 4,
 "nbformat_minor": 5
}
